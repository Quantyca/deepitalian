{
 "cells": [
  {
   "cell_type": "markdown",
   "metadata": {},
   "source": [
    "# Imports"
   ]
  },
  {
   "cell_type": "code",
   "execution_count": 25,
   "metadata": {},
   "outputs": [
    {
     "name": "stdout",
     "output_type": "stream",
     "text": [
      "The autoreload extension is already loaded. To reload it, use:\n",
      "  %reload_ext autoreload\n"
     ]
    }
   ],
   "source": [
    "%load_ext autoreload\n",
    "%autoreload 2\n",
    "from fastai import *\n",
    "from fastai.text import *\n",
    "from fastai.callbacks import *\n",
    "from shutil import copyfile"
   ]
  },
  {
   "cell_type": "markdown",
   "metadata": {},
   "source": [
    "# Parameters"
   ]
  },
  {
   "cell_type": "code",
   "execution_count": 13,
   "metadata": {},
   "outputs": [],
   "source": [
    "p_in_bs=128"
   ]
  },
  {
   "cell_type": "markdown",
   "metadata": {},
   "source": [
    "# Paths"
   ]
  },
  {
   "cell_type": "code",
   "execution_count": 28,
   "metadata": {},
   "outputs": [],
   "source": [
    "base_wikipedia_path = '/storage/Data/NLPData/Wikipedia'\n",
    "\n",
    "wikipedia_tokenized_pickle_file_name = 'wikipedia_100_tokenized.pkl'\n",
    "wikipedia_tokenized_itos_pickle_file_name = 'wikipedia_100_tokenized_itos.pkl'\n",
    "\n",
    "wikipedia_trained_language_model_file_name = 'wikipedia_60kvocab_100Mtokens.pth'"
   ]
  },
  {
   "cell_type": "code",
   "execution_count": 15,
   "metadata": {},
   "outputs": [],
   "source": [
    "PATH = Path(base_wikipedia_path)"
   ]
  },
  {
   "cell_type": "code",
   "execution_count": 6,
   "metadata": {},
   "outputs": [
    {
     "data": {
      "text/plain": [
       "PosixPath('/storage/Data/NLPData/Wikipedia')"
      ]
     },
     "execution_count": 6,
     "metadata": {},
     "output_type": "execute_result"
    }
   ],
   "source": [
    "PATH"
   ]
  },
  {
   "cell_type": "markdown",
   "metadata": {},
   "source": [
    "# Training"
   ]
  },
  {
   "cell_type": "code",
   "execution_count": 16,
   "metadata": {},
   "outputs": [],
   "source": [
    "data_lm_full = load_data(PATH, wikipedia_tokenized_pickle_file_name, bs=p_in_bs)"
   ]
  },
  {
   "cell_type": "code",
   "execution_count": 8,
   "metadata": {},
   "outputs": [
    {
     "data": {
      "text/plain": [
       "60004"
      ]
     },
     "execution_count": 8,
     "metadata": {},
     "output_type": "execute_result"
    }
   ],
   "source": [
    "\n",
    "len(data_lm_full.train_ds.vocab.itos)"
   ]
  },
  {
   "cell_type": "code",
   "execution_count": 9,
   "metadata": {},
   "outputs": [
    {
     "data": {
      "text/html": [
       "<table border=\"1\" class=\"dataframe\">\n",
       "  <thead>\n",
       "    <tr style=\"text-align: right;\">\n",
       "      <th>idx</th>\n",
       "      <th>text</th>\n",
       "    </tr>\n",
       "  </thead>\n",
       "  <tbody>\n",
       "    <tr>\n",
       "      <td>0</td>\n",
       "      <td>, 1758 ) è assai diffusa in xxmaj europa . \\n  xxbos xxmaj battaglia di xxmaj xxunk \\n \\n  xxmaj la battaglia di xxmaj xxunk fu combattuta il 3 e il 4 agosto 1796 tra l'esercito francese del generale xxmaj napoleone xxmaj bonaparte e un corpo d'armata tipo colonna austriaca guidata dal feldmaresciallo xxmaj peter xxmaj xxunk von xxmaj xxunk . \\n \\n  xxmaj cenni storici .</td>\n",
       "    </tr>\n",
       "    <tr>\n",
       "      <td>1</td>\n",
       "      <td>xxmaj leone di xxmaj lucerna , opera di xxmaj xxunk xxmaj xxunk , che xxunk il sacrificio della guardia svizzera . xxmaj il nome del fratello vi è inciso al secondo posto della lista dei caduti . xxmaj morì nel 1831 nella propria casa alla ragguardevole età di 91 anni . \\n \\n  xxmaj gradi xxmaj militari . \\n  1758 xxmaj alfiere ( xxmaj reggimento xxmaj xxunk )</td>\n",
       "    </tr>\n",
       "    <tr>\n",
       "      <td>2</td>\n",
       "      <td>notazione classica . xxmaj gli spazi possono anche essere inseriti all'inizio e / o alla fine delle xxunk per rendere la scrittura in xxmaj abc più leggibile . \\n \\n  xxmaj ripetizioni . \\n  xxmaj le xxmaj ripetizioni sono specificate con il simbolo dei \" due punti \" : . xxmaj l'inizio di una sezione ripetuta del brano è scritta con | : e la fine di una</td>\n",
       "    </tr>\n",
       "    <tr>\n",
       "      <td>3</td>\n",
       "      <td>xxmaj xxunk und xxmaj xxunk der xxmaj xxunk xxmaj deutschen xxmaj xxunk \" di xxmaj weimar ma xxmaj xxunk si decise per la biblioteca comunale e regionale \" xxmaj heinrich xxmaj heine \" di xxmaj gotha e dal 1953 fino al pensionamento nel 1985 ne fu direttore . xxmaj la prima moglie , xxmaj xxunk , partì per la xxmaj germania xxmaj ovest insieme con lo scrittore xxmaj peter xxmaj</td>\n",
       "    </tr>\n",
       "    <tr>\n",
       "      <td>4</td>\n",
       "      <td>svizzera . \\n  xxbos xxmaj lavori sporchi \\n \\n  xxmaj lavori sporchi ( \" xxmaj dirty xxmaj jobs \" ) è un programma trasmesso su xxmaj discovery xxmaj channel in cui il conduttore xxmaj mike xxmaj rowe viene ripreso mentre sta svolgendo incarichi xxunk , strani o molto sporchi caratteristici di alcune professioni . xxmaj la trasmissione è cominciata con 3 episodi pilota nel novembre 2003 , ritornando</td>\n",
       "    </tr>\n",
       "  </tbody>\n",
       "</table>"
      ],
      "text/plain": [
       "<IPython.core.display.HTML object>"
      ]
     },
     "metadata": {},
     "output_type": "display_data"
    }
   ],
   "source": [
    "data_lm_full.show_batch()"
   ]
  },
  {
   "cell_type": "code",
   "execution_count": 17,
   "metadata": {},
   "outputs": [],
   "source": [
    "\n",
    "learn = language_model_learner(data_lm_full,AWD_LSTM, pretrained=False,  callback_fns=ShowGraph)\n"
   ]
  },
  {
   "cell_type": "code",
   "execution_count": null,
   "metadata": {},
   "outputs": [],
   "source": [
    "learn.lr_find()\n",
    "learn.recorder.plot(skip_start=0)"
   ]
  },
  {
   "cell_type": "code",
   "execution_count": null,
   "metadata": {},
   "outputs": [
    {
     "data": {
      "text/html": [
       "\n",
       "    <div>\n",
       "        <style>\n",
       "            /* Turns off some styling */\n",
       "            progress {\n",
       "                /* gets rid of default border in Firefox and Opera. */\n",
       "                border: none;\n",
       "                /* Needs to be in here for Safari polyfill so background images work as expected. */\n",
       "                background-size: auto;\n",
       "            }\n",
       "            .progress-bar-interrupted, .progress-bar-interrupted::-webkit-progress-bar {\n",
       "                background: #F44336;\n",
       "            }\n",
       "        </style>\n",
       "      <progress value='4' class='' max='10', style='width:300px; height:20px; vertical-align: middle;'></progress>\n",
       "      40.00% [4/10 6:52:49<10:19:13]\n",
       "    </div>\n",
       "    \n",
       "<table border=\"1\" class=\"dataframe\">\n",
       "  <thead>\n",
       "    <tr style=\"text-align: left;\">\n",
       "      <th>epoch</th>\n",
       "      <th>train_loss</th>\n",
       "      <th>valid_loss</th>\n",
       "      <th>accuracy</th>\n",
       "      <th>time</th>\n",
       "    </tr>\n",
       "  </thead>\n",
       "  <tbody>\n",
       "    <tr>\n",
       "      <td>0</td>\n",
       "      <td>3.862753</td>\n",
       "      <td>3.717139</td>\n",
       "      <td>0.332310</td>\n",
       "      <td>1:43:14</td>\n",
       "    </tr>\n",
       "    <tr>\n",
       "      <td>1</td>\n",
       "      <td>4.018489</td>\n",
       "      <td>3.873284</td>\n",
       "      <td>0.320182</td>\n",
       "      <td>1:43:11</td>\n",
       "    </tr>\n",
       "    <tr>\n",
       "      <td>2</td>\n",
       "      <td>4.117584</td>\n",
       "      <td>3.958606</td>\n",
       "      <td>0.312913</td>\n",
       "      <td>1:43:04</td>\n",
       "    </tr>\n",
       "    <tr>\n",
       "      <td>3</td>\n",
       "      <td>4.086537</td>\n",
       "      <td>3.924147</td>\n",
       "      <td>0.316406</td>\n",
       "      <td>1:43:07</td>\n",
       "    </tr>\n",
       "  </tbody>\n",
       "</table><p>\n",
       "\n",
       "    <div>\n",
       "        <style>\n",
       "            /* Turns off some styling */\n",
       "            progress {\n",
       "                /* gets rid of default border in Firefox and Opera. */\n",
       "                border: none;\n",
       "                /* Needs to be in here for Safari polyfill so background images work as expected. */\n",
       "                background-size: auto;\n",
       "            }\n",
       "            .progress-bar-interrupted, .progress-bar-interrupted::-webkit-progress-bar {\n",
       "                background: #F44336;\n",
       "            }\n",
       "        </style>\n",
       "      <progress value='9061' class='' max='15286', style='width:300px; height:20px; vertical-align: middle;'></progress>\n",
       "      59.28% [9061/15286 59:52<41:08 4.0540]\n",
       "    </div>\n",
       "    "
      ],
      "text/plain": [
       "<IPython.core.display.HTML object>"
      ]
     },
     "metadata": {},
     "output_type": "display_data"
    },
    {
     "data": {
      "image/png": "[encoded data removed]",
      "text/plain": [
       "<Figure size 432x288 with 1 Axes>"
      ]
     },
     "metadata": {},
     "output_type": "display_data"
    },
    {
     "name": "stdout",
     "output_type": "stream",
     "text": [
      "Better model found at epoch 0 with accuracy value: 0.33231034874916077.\n"
     ]
    }
   ],
   "source": [
    "\n",
    "learn.fit_one_cycle(10, 3e-2, moms=(0.8,0.7),callbacks=[ShowGraph(learn), SaveModelCallback(learn,monitor='accuracy',mode='max')])"
   ]
  },
  {
   "cell_type": "code",
   "execution_count": 29,
   "metadata": {},
   "outputs": [],
   "source": [
    "copyfile(PATH/'models/bestmodel.pth',PATH/wikipedia_trained_language_model_file_name);"
   ]
  },
  {
   "cell_type": "code",
   "execution_count": 23,
   "metadata": {},
   "outputs": [],
   "source": [
    "TEXT = \"Le montagne dell'interno dei balcani\"\n",
    "N_WORDS = 400\n",
    "N_SENTENCES = 1"
   ]
  },
  {
   "cell_type": "code",
   "execution_count": 24,
   "metadata": {},
   "outputs": [
    {
     "name": "stdout",
     "output_type": "stream",
     "text": [
      "Le montagne dell'interno dei balcani \n",
      " \n",
      "  La foresta del Pacifico è un film del 1968 diretto da Dipartimento di Chimica Sperimentale . \n",
      " \n",
      "  La commedia ruota su un lato del Mediterraneo , il cui testo è caratterizzato da un carattere di scena e che parla delle canzoni che incise lirica . La sceneggiatura di La Fenice era stata rappresentata con la medesima forma di film , tra cui il \" Estasi \" ( \" La grande festa \" , \" Le avventure di Gesù \" , \" Il Mulino Diavolo \" di Mazza , \" La madre di Siviglia \" , \" La tavola più alta \" , \" Le nuove avventure di San Marco \" di Enrico Foscolo , \" La Traviata \" , di Giulio Brandi ) , \" La Spugna \" di Umberto Tozzi ( e \" Il barbiere del Cuore \" ) , Luigi Zampa di Arnaldo Vico ( Lo Climi ) e \" Il giovane Manicomio \" di Italo Sacchi , dal quale Bianchini era il fratello di Tiberio e \" Falstaff \" ( Giulia ) . \n",
      " \n",
      "  Produzione . \n",
      "  La commedia è stata prodotta da Rai 1 . \n",
      "  Il film è stato presentato in concorso alla Mostra di Venezia e alla Mostra internazionale d'arte cinematografica di Venezia per il Film Festival \n",
      " \n",
      "  Il film , prodotto da Enrico Roversi , è stato diretto da Gigi Proietti , e girato a Roma . In Italia , in Italia , il film è stato presentato nel 1997 di Canale 5 . La serie è stata trasmessa negli Stati Uniti d'america dal 9 novembre 2009 al 26 giugno 2009 . \n",
      " \n",
      "  Critica . \n",
      "  Il film ha visto il essere in una maggiore popolarità , ma non si può notare della sua interpretazione universale , ma il peso del film è stato leggermente meno negativo . Il film ha incassato più di 100 copie in Italia , la miglior è il Billboard\n"
     ]
    }
   ],
   "source": [
    "print(\"\\n\".join(learn.predict(TEXT, N_WORDS, temperature=0.75) for _ in range(N_SENTENCES)))"
   ]
  }
 ],
 "metadata": {
  "kernelspec": {
   "display_name": "Python 3",
   "language": "python",
   "name": "python3"
  }
 },
 "nbformat": 4,
 "nbformat_minor": 2
}
